{
 "cells": [
  {
   "cell_type": "markdown",
   "metadata": {},
   "source": [
    "## TF"
   ]
  },
  {
   "cell_type": "code",
   "execution_count": null,
   "metadata": {},
   "outputs": [],
   "source": [
    "import tensorflow as tf\n",
    "from tensorflow import keras\n",
    "from tensorflow.keras.utils import to_categorical\n",
    "from tensorflow.keras.datasets import mnist\n",
    "import matplotlib.pylab as plt\n",
    "\n",
    "import numpy as np\n",
    "import os"
   ]
  },
  {
   "cell_type": "markdown",
   "metadata": {},
   "source": [
    "## Parameter Setting"
   ]
  },
  {
   "cell_type": "code",
   "execution_count": null,
   "metadata": {},
   "outputs": [],
   "source": [
    "learning_rate = 0.001\n",
    "epochs = 20\n",
    "batch_size=64"
   ]
  },
  {
   "cell_type": "markdown",
   "metadata": {},
   "source": [
    "## Load Data"
   ]
  },
  {
   "cell_type": "code",
   "execution_count": null,
   "metadata": {},
   "outputs": [],
   "source": [
    "(train_image, train_label), (test_image, test_label) = mnist.load_data()\n",
    "\n",
    "train_image = train_image.astype(np.float32)\n",
    "test_image = test_image.astype(np.float32)\n",
    "\n",
    "# train_image = np.expand_dims(train_image, axis=1)\n",
    "# test_image = np.expand_dims(test_image, axis=1)\n",
    "\n",
    "train_label = to_categorical(train_label, 10)\n",
    "test_label = to_categorical(test_label, 10)\n",
    "\n",
    "train_data = tf.data.Dataset.from_tensor_slices((train_image, train_label)).shuffle(buffer_size=1000000).batch(batch_size)\n",
    "test_data = tf.data.Dataset.from_tensor_slices((test_image, test_label)).batch(batch_size)"
   ]
  },
  {
   "cell_type": "code",
   "execution_count": null,
   "metadata": {},
   "outputs": [],
   "source": [
    "img = train_image[0].reshape([28,28])\n",
    "print(type(img))\n",
    "print(img.shape)\n",
    "plt.figure(figsize=(8,8))\n",
    "plt.imshow(img, cmap='gray_r')\n",
    "plt.show()"
   ]
  },
  {
   "cell_type": "markdown",
   "metadata": {},
   "source": [
    "## Model setting"
   ]
  },
  {
   "cell_type": "code",
   "execution_count": null,
   "metadata": {},
   "outputs": [],
   "source": [
    "ip = keras.Input(shape=(28,28,1))\n",
    "\n",
    "# First Conv\n",
    "conv1 = keras.layers.Conv2D(filters=64, kernel_size=(3,3), strides=1, padding='same', activation=tf.nn.relu)(ip)\n",
    "pool1 = keras.layers.MaxPool2D(pool_size=(2,2), padding='same')(conv1)\n",
    "norm1 = tf.nn.local_response_normalization(pool1, depth_radius=4, bias=1.0, alpha=0.001/9.0, beta=0.75)\n",
    "drop1 = keras.layers.Dropout(0.8)(norm1)\n",
    "\n",
    "# Second Conv\n",
    "conv2 = keras.layers.Conv2D(filters=128, kernel_size=(3,3), strides=1, padding='same', activation=tf.nn.relu)(drop1)\n",
    "pool2 = keras.layers.MaxPool2D(pool_size=(2,2), padding='same')(conv2)\n",
    "norm2 = tf.nn.local_response_normalization(pool2, depth_radius=4, bias=1.0, alpha=0.001/9.0, beta=0.75)\n",
    "drop2 = keras.layers.Dropout(0.8)(norm2)\n",
    "\n",
    "# Third Conv\n",
    "conv3 = keras.layers.Conv2D(filters=256, kernel_size=(3,3), strides=1, padding='same', activation=tf.nn.relu)(drop2)\n",
    "pool3 = keras.layers.MaxPool2D(pool_size=(2,2), padding='same')(conv3)\n",
    "norm3 = tf.nn.local_response_normalization(pool3, depth_radius=4, bias=1.0, alpha=0.001/9.0, beta=0.75)\n",
    "drop3 = keras.layers.Dropout(0.8)(norm3)\n",
    "\n",
    "# Fully Connected\n",
    "flat = keras.layers.Flatten()(drop3)\n",
    "dense1 = keras.layers.Dense(units = 1024, activation = tf.nn.relu)(flat)\n",
    "dense2 = keras.layers.Dense(units = 1024, activation = tf.nn.relu)(dense1)\n",
    "\n",
    "# Output\n",
    "op = keras.layers.Dense(units=10)(dense2)\n",
    "model = keras.Model(ip, op)"
   ]
  },
  {
   "cell_type": "markdown",
   "metadata": {},
   "source": [
    "## Fit"
   ]
  },
  {
   "cell_type": "code",
   "execution_count": null,
   "metadata": {},
   "outputs": [],
   "source": [
    "model.compile(optimizer='adam', loss='categorical_crossentropy', metrics=['accuracy'])\n",
    "history = model.fit(train_image, train_label, epochs=epochs)"
   ]
  },
  {
   "cell_type": "markdown",
   "metadata": {},
   "source": [
    "## Graph"
   ]
  },
  {
   "cell_type": "code",
   "execution_count": null,
   "metadata": {},
   "outputs": [],
   "source": []
  },
  {
   "cell_type": "code",
   "execution_count": null,
   "metadata": {},
   "outputs": [],
   "source": []
  },
  {
   "cell_type": "markdown",
   "metadata": {},
   "source": [
    "## ETC"
   ]
  }
 ],
 "metadata": {
  "interpreter": {
   "hash": "ad2bdc8ecc057115af97d19610ffacc2b4e99fae6737bb82f5d7fb13d2f2c186"
  },
  "kernelspec": {
   "display_name": "Python 3.9.7 ('base')",
   "language": "python",
   "name": "python3"
  },
  "language_info": {
   "codemirror_mode": {
    "name": "ipython",
    "version": 3
   },
   "file_extension": ".py",
   "mimetype": "text/x-python",
   "name": "python",
   "nbconvert_exporter": "python",
   "pygments_lexer": "ipython3",
   "version": "3.9.7"
  },
  "orig_nbformat": 4
 },
 "nbformat": 4,
 "nbformat_minor": 2
}

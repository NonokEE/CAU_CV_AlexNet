{
 "cells": [
  {
   "cell_type": "markdown",
   "metadata": {},
   "source": [
    "## TF"
   ]
  },
  {
   "cell_type": "code",
   "execution_count": 1,
   "metadata": {},
   "outputs": [],
   "source": [
    "import tensorflow as tf\n",
    "from tensorflow import keras\n",
    "from tensorflow.keras.utils import to_categorical\n",
    "from tensorflow.keras.datasets import mnist\n",
    "import matplotlib.pylab as plt\n",
    "\n",
    "import numpy as np\n",
    "import os"
   ]
  },
  {
   "cell_type": "markdown",
   "metadata": {},
   "source": [
    "## Parameter Setting"
   ]
  },
  {
   "cell_type": "code",
   "execution_count": 2,
   "metadata": {},
   "outputs": [],
   "source": [
    "learning_rate = 0.001\n",
    "epochs = 50\n",
    "batch_size=64"
   ]
  },
  {
   "cell_type": "markdown",
   "metadata": {},
   "source": [
    "## Load Data"
   ]
  },
  {
   "cell_type": "code",
   "execution_count": 3,
   "metadata": {},
   "outputs": [],
   "source": [
    "(train_image, train_label), (test_image, test_label) = mnist.load_data()\n",
    "\n",
    "train_image = train_image.astype(np.float32)\n",
    "test_image = test_image.astype(np.float32)\n",
    "\n",
    "train_image = np.expand_dims(train_image, axis=1)\n",
    "test_image = np.expand_dims(test_image, axis=1)\n",
    "\n",
    "train_label = to_categorical(train_label, 10)\n",
    "test_label = to_categorical(test_label, 10)\n",
    "\n",
    "train_data = tf.data.Dataset.from_tensor_slices((train_image, train_label)).shuffle(buffer_size=1000000).batch(batch_size)\n",
    "test_data = tf.data.Dataset.from_tensor_slices((test_image, test_label)).batch(batch_size)"
   ]
  },
  {
   "cell_type": "code",
   "execution_count": 4,
   "metadata": {},
   "outputs": [
    {
     "name": "stdout",
     "output_type": "stream",
     "text": [
      "<class 'numpy.ndarray'>\n",
      "(28, 28)\n"
     ]
    },
    {
     "data": {
      "image/png": "[encoded data removed]",
      "text/plain": [
       "<Figure size 576x576 with 1 Axes>"
      ]
     },
     "metadata": {
      "needs_background": "light"
     },
     "output_type": "display_data"
    }
   ],
   "source": [
    "img = train_image[0].reshape([28,28])\n",
    "print(type(img))\n",
    "print(img.shape)\n",
    "plt.figure(figsize=(8,8))\n",
    "plt.imshow(img, cmap='gray_r')\n",
    "plt.show()\n",
    "print(img)"
   ]
  },
  {
   "cell_type": "markdown",
   "metadata": {},
   "source": [
    "## Model setting"
   ]
  },
  {
   "cell_type": "code",
   "execution_count": 5,
   "metadata": {},
   "outputs": [],
   "source": [
    "ip = keras.Input(shape=(1,28,28))\n",
    "\n",
    "# First Conv\n",
    "conv1 = keras.layers.Conv2D(filters=64, kernel_size=(3,3), strides=1, padding='same', activation=tf.nn.relu)(ip)\n",
    "pool1 = keras.layers.MaxPool2D(pool_size=(2,2), padding='same')(conv1)\n",
    "norm1 = tf.nn.local_response_normalization(pool1, depth_radius=4, bias=1.0, alpha=0.001/9.0, beta=0.75)\n",
    "drop1 = keras.layers.Dropout(0.8)(norm1)\n",
    "\n",
    "# Second Conv\n",
    "conv2 = keras.layers.Conv2D(filters=128, kernel_size=(3,3), strides=1, padding='same', activation=tf.nn.relu)(drop1)\n",
    "pool2 = keras.layers.MaxPool2D(pool_size=(2,2), padding='same')(conv2)\n",
    "norm2 = tf.nn.local_response_normalization(pool2, depth_radius=4, bias=1.0, alpha=0.001/9.0, beta=0.75)\n",
    "drop2 = keras.layers.Dropout(0.8)(norm2)\n",
    "\n",
    "# Third Conv\n",
    "conv3 = keras.layers.Conv2D(filters=256, kernel_size=(3,3), strides=1, padding='same', activation=tf.nn.relu)(drop2)\n",
    "pool3 = keras.layers.MaxPool2D(pool_size=(2,2), padding='same')(conv3)\n",
    "norm3 = tf.nn.local_response_normalization(pool3, depth_radius=4, bias=1.0, alpha=0.001/9.0, beta=0.75)\n",
    "drop3 = keras.layers.Dropout(0.8)(norm3)\n",
    "\n",
    "# Fully Connected\n",
    "flat = keras.layers.Flatten()(drop3)\n",
    "dense1 = keras.layers.Dense(units = 1024, activation = tf.nn.relu)(flat)\n",
    "dense2 = keras.layers.Dense(units = 1024, activation = tf.nn.relu)(dense1)\n",
    "\n",
    "# Output\n",
    "op = keras.layers.Dense(units=10, activation = tf.nn.softmax)(dense2)\n",
    "model = keras.Model(ip, op)"
   ]
  },
  {
   "cell_type": "code",
   "execution_count": 6,
   "metadata": {},
   "outputs": [
    {
     "name": "stdout",
     "output_type": "stream",
     "text": [
      "Model: \"model\"\n",
      "_________________________________________________________________\n",
      " Layer (type)                Output Shape              Param #   \n",
      "=================================================================\n",
      " input_1 (InputLayer)        [(None, 1, 28, 28)]       0         \n",
      "                                                                 \n",
      " conv2d (Conv2D)             (None, 1, 28, 64)         16192     \n",
      "                                                                 \n",
      " max_pooling2d (MaxPooling2D  (None, 1, 14, 64)        0         \n",
      " )                                                               \n",
      "                                                                 \n",
      " tf.nn.local_response_normal  (None, 1, 14, 64)        0         \n",
      " ization (TFOpLambda)                                            \n",
      "                                                                 \n",
      " dropout (Dropout)           (None, 1, 14, 64)         0         \n",
      "                                                                 \n",
      " conv2d_1 (Conv2D)           (None, 1, 14, 128)        73856     \n",
      "                                                                 \n",
      " max_pooling2d_1 (MaxPooling  (None, 1, 7, 128)        0         \n",
      " 2D)                                                             \n",
      "                                                                 \n",
      " tf.nn.local_response_normal  (None, 1, 7, 128)        0         \n",
      " ization_1 (TFOpLambda)                                          \n",
      "                                                                 \n",
      " dropout_1 (Dropout)         (None, 1, 7, 128)         0         \n",
      "                                                                 \n",
      " conv2d_2 (Conv2D)           (None, 1, 7, 256)         295168    \n",
      "                                                                 \n",
      " max_pooling2d_2 (MaxPooling  (None, 1, 4, 256)        0         \n",
      " 2D)                                                             \n",
      "                                                                 \n",
      " tf.nn.local_response_normal  (None, 1, 4, 256)        0         \n",
      " ization_2 (TFOpLambda)                                          \n",
      "                                                                 \n",
      " dropout_2 (Dropout)         (None, 1, 4, 256)         0         \n",
      "                                                                 \n",
      " flatten (Flatten)           (None, 1024)              0         \n",
      "                                                                 \n",
      " dense (Dense)               (None, 1024)              1049600   \n",
      "                                                                 \n",
      " dense_1 (Dense)             (None, 1024)              1049600   \n",
      "                                                                 \n",
      " dense_2 (Dense)             (None, 10)                10250     \n",
      "                                                                 \n",
      "=================================================================\n",
      "Total params: 2,494,666\n",
      "Trainable params: 2,494,666\n",
      "Non-trainable params: 0\n",
      "_________________________________________________________________\n"
     ]
    }
   ],
   "source": [
    "model.summary()"
   ]
  },
  {
   "cell_type": "markdown",
   "metadata": {},
   "source": [
    "## Fit"
   ]
  },
  {
   "cell_type": "code",
   "execution_count": 7,
   "metadata": {},
   "outputs": [
    {
     "name": "stdout",
     "output_type": "stream",
     "text": [
      "Epoch 1/50\n",
      "1875/1875 [==============================] - 14s 5ms/step - loss: 2.2505 - accuracy: 0.2695\n",
      "Epoch 2/50\n",
      "1875/1875 [==============================] - 10s 5ms/step - loss: 1.0609 - accuracy: 0.6210\n",
      "Epoch 3/50\n",
      "1875/1875 [==============================] - 10s 5ms/step - loss: 0.8149 - accuracy: 0.7319\n",
      "Epoch 4/50\n",
      "1875/1875 [==============================] - 10s 5ms/step - loss: 0.7231 - accuracy: 0.7714\n",
      "Epoch 5/50\n",
      "1875/1875 [==============================] - 10s 5ms/step - loss: 0.6638 - accuracy: 0.7963\n",
      "Epoch 6/50\n",
      "1875/1875 [==============================] - 10s 5ms/step - loss: 0.6282 - accuracy: 0.8105\n",
      "Epoch 7/50\n",
      "1875/1875 [==============================] - 10s 5ms/step - loss: 0.6150 - accuracy: 0.8145\n",
      "Epoch 8/50\n",
      "1875/1875 [==============================] - 10s 5ms/step - loss: 0.5902 - accuracy: 0.8233\n",
      "Epoch 9/50\n",
      "1875/1875 [==============================] - 10s 5ms/step - loss: 0.5797 - accuracy: 0.8267\n",
      "Epoch 10/50\n",
      "1875/1875 [==============================] - 10s 5ms/step - loss: 0.5561 - accuracy: 0.8334\n",
      "Epoch 11/50\n",
      "1875/1875 [==============================] - 10s 5ms/step - loss: 0.5443 - accuracy: 0.8379\n",
      "Epoch 12/50\n",
      "1875/1875 [==============================] - 10s 5ms/step - loss: 0.5507 - accuracy: 0.8379\n",
      "Epoch 13/50\n",
      "1875/1875 [==============================] - 10s 5ms/step - loss: 0.5257 - accuracy: 0.8449\n",
      "Epoch 14/50\n",
      "1875/1875 [==============================] - 10s 5ms/step - loss: 0.5306 - accuracy: 0.8445\n",
      "Epoch 15/50\n",
      "1875/1875 [==============================] - 10s 5ms/step - loss: 0.5197 - accuracy: 0.8467\n",
      "Epoch 16/50\n",
      "1875/1875 [==============================] - 10s 5ms/step - loss: 0.5133 - accuracy: 0.8494\n",
      "Epoch 17/50\n",
      "1875/1875 [==============================] - 10s 5ms/step - loss: 0.5053 - accuracy: 0.8516\n",
      "Epoch 18/50\n",
      "1875/1875 [==============================] - 10s 5ms/step - loss: 0.5021 - accuracy: 0.8530\n",
      "Epoch 19/50\n",
      "1875/1875 [==============================] - 11s 6ms/step - loss: 0.5002 - accuracy: 0.8551\n",
      "Epoch 20/50\n",
      "1875/1875 [==============================] - 11s 6ms/step - loss: 0.4915 - accuracy: 0.8547\n",
      "Epoch 21/50\n",
      "1875/1875 [==============================] - 11s 6ms/step - loss: 0.4860 - accuracy: 0.8581\n",
      "Epoch 22/50\n",
      "1875/1875 [==============================] - 11s 6ms/step - loss: 0.4803 - accuracy: 0.8599\n",
      "Epoch 23/50\n",
      "1875/1875 [==============================] - 11s 6ms/step - loss: 0.4712 - accuracy: 0.8619\n",
      "Epoch 24/50\n",
      "1875/1875 [==============================] - 11s 6ms/step - loss: 0.4754 - accuracy: 0.8614\n",
      "Epoch 25/50\n",
      "1875/1875 [==============================] - 10s 6ms/step - loss: 0.4699 - accuracy: 0.8630\n",
      "Epoch 26/50\n",
      "1875/1875 [==============================] - 11s 6ms/step - loss: 0.4624 - accuracy: 0.8659\n",
      "Epoch 27/50\n",
      "1875/1875 [==============================] - 11s 6ms/step - loss: 0.4679 - accuracy: 0.8637\n",
      "Epoch 28/50\n",
      "1875/1875 [==============================] - 11s 6ms/step - loss: 0.4563 - accuracy: 0.8667\n",
      "Epoch 29/50\n",
      "1875/1875 [==============================] - 11s 6ms/step - loss: 0.4543 - accuracy: 0.8677\n",
      "Epoch 30/50\n",
      "1875/1875 [==============================] - 11s 6ms/step - loss: 0.4515 - accuracy: 0.8673\n",
      "Epoch 31/50\n",
      "1875/1875 [==============================] - 11s 6ms/step - loss: 0.4429 - accuracy: 0.8710\n",
      "Epoch 32/50\n",
      "1875/1875 [==============================] - 11s 6ms/step - loss: 0.4414 - accuracy: 0.8724\n",
      "Epoch 33/50\n",
      "1875/1875 [==============================] - 11s 6ms/step - loss: 0.4388 - accuracy: 0.8714\n",
      "Epoch 34/50\n",
      "1875/1875 [==============================] - 11s 6ms/step - loss: 0.4384 - accuracy: 0.8728\n",
      "Epoch 35/50\n",
      "1875/1875 [==============================] - 11s 6ms/step - loss: 0.4338 - accuracy: 0.8740\n",
      "Epoch 36/50\n",
      "1875/1875 [==============================] - 11s 6ms/step - loss: 0.4314 - accuracy: 0.8736\n",
      "Epoch 37/50\n",
      "1875/1875 [==============================] - 11s 6ms/step - loss: 0.4284 - accuracy: 0.8759\n",
      "Epoch 38/50\n",
      "1875/1875 [==============================] - 11s 6ms/step - loss: 0.4323 - accuracy: 0.8752\n",
      "Epoch 39/50\n",
      "1875/1875 [==============================] - 11s 6ms/step - loss: 0.4211 - accuracy: 0.8772\n",
      "Epoch 40/50\n",
      "1875/1875 [==============================] - 11s 6ms/step - loss: 0.4258 - accuracy: 0.8757\n",
      "Epoch 41/50\n",
      "1875/1875 [==============================] - 10s 6ms/step - loss: 0.4252 - accuracy: 0.8749\n",
      "Epoch 42/50\n",
      "1875/1875 [==============================] - 10s 6ms/step - loss: 0.4093 - accuracy: 0.8820\n",
      "Epoch 43/50\n",
      "1875/1875 [==============================] - 10s 6ms/step - loss: 0.4172 - accuracy: 0.8788\n",
      "Epoch 44/50\n",
      "1875/1875 [==============================] - 10s 6ms/step - loss: 0.4158 - accuracy: 0.8796\n",
      "Epoch 45/50\n",
      "1875/1875 [==============================] - 11s 6ms/step - loss: 0.4096 - accuracy: 0.8797\n",
      "Epoch 46/50\n",
      "1875/1875 [==============================] - 11s 6ms/step - loss: 0.4167 - accuracy: 0.8802\n",
      "Epoch 47/50\n",
      "1875/1875 [==============================] - 11s 6ms/step - loss: 0.4108 - accuracy: 0.8806\n",
      "Epoch 48/50\n",
      "1875/1875 [==============================] - 11s 6ms/step - loss: 0.4076 - accuracy: 0.8821\n",
      "Epoch 49/50\n",
      "1875/1875 [==============================] - 11s 6ms/step - loss: 0.4043 - accuracy: 0.8818\n",
      "Epoch 50/50\n",
      "1875/1875 [==============================] - 11s 6ms/step - loss: 0.4050 - accuracy: 0.8831\n"
     ]
    }
   ],
   "source": [
    "model.compile(optimizer='adam', loss='categorical_crossentropy', metrics=['accuracy'])\n",
    "history = model.fit(train_image, train_label, epochs=epochs)"
   ]
  },
  {
   "cell_type": "markdown",
   "metadata": {},
   "source": [
    "## Graph"
   ]
  },
  {
   "cell_type": "code",
   "execution_count": 13,
   "metadata": {},
   "outputs": [
    {
     "data": {
      "image/png": "[encoded data removed]",
      "text/plain": [
       "<Figure size 576x432 with 1 Axes>"
      ]
     },
     "metadata": {
      "needs_background": "light"
     },
     "output_type": "display_data"
    }
   ],
   "source": [
    "plt.figure(figsize=(8,6))\n",
    "plt.title('model loss')\n",
    "\n",
    "plt.plot(history.history['loss'])\n",
    "plt.ylabel('loss')\n",
    "plt.xlabel('epoch')\n",
    "\n",
    "plt.tight_layout()\n",
    "plt.show()"
   ]
  },
  {
   "cell_type": "code",
   "execution_count": 14,
   "metadata": {},
   "outputs": [
    {
     "data": {
      "image/png": "[encoded data removed]",
      "text/plain": [
       "<Figure size 576x432 with 1 Axes>"
      ]
     },
     "metadata": {
      "needs_background": "light"
     },
     "output_type": "display_data"
    }
   ],
   "source": [
    "plt.figure(figsize=(8,6))\n",
    "plt.title('model accuracy')\n",
    "\n",
    "plt.plot(history.history['accuracy'])\n",
    "plt.ylabel('accuracy')\n",
    "plt.xlabel('epoch')\n",
    "\n",
    "plt.tight_layout()\n",
    "plt.show()"
   ]
  },
  {
   "cell_type": "markdown",
   "metadata": {},
   "source": [
    "## Evaluate"
   ]
  },
  {
   "cell_type": "code",
   "execution_count": 15,
   "metadata": {},
   "outputs": [
    {
     "name": "stdout",
     "output_type": "stream",
     "text": [
      "313/313 [==============================] - 2s 4ms/step - loss: 0.1578 - accuracy: 0.9555\n"
     ]
    }
   ],
   "source": [
    "test_loss, test_acc = model.evaluate(test_image, test_label)"
   ]
  }
 ],
 "metadata": {
  "interpreter": {
   "hash": "ad2bdc8ecc057115af97d19610ffacc2b4e99fae6737bb82f5d7fb13d2f2c186"
  },
  "kernelspec": {
   "display_name": "Python 3.9.7 ('base')",
   "language": "python",
   "name": "python3"
  },
  "language_info": {
   "codemirror_mode": {
    "name": "ipython",
    "version": 3
   },
   "file_extension": ".py",
   "mimetype": "text/x-python",
   "name": "python",
   "nbconvert_exporter": "python",
   "pygments_lexer": "ipython3",
   "version": "3.9.7"
  },
  "orig_nbformat": 4
 },
 "nbformat": 4,
 "nbformat_minor": 2
}

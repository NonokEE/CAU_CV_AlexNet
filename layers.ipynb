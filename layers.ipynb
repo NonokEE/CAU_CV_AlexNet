{
 "cells": [
  {
   "cell_type": "code",
   "execution_count": 98,
   "metadata": {},
   "outputs": [],
   "source": [
    "import numpy as np"
   ]
  },
  {
   "cell_type": "markdown",
   "metadata": {},
   "source": [
    "## ReLu"
   ]
  },
  {
   "cell_type": "code",
   "execution_count": 119,
   "metadata": {},
   "outputs": [
    {
     "name": "stdout",
     "output_type": "stream",
     "text": [
      "[[-0.39663241 -0.96601713 -0.85365477 -0.92164457 -0.39974081 -0.32266948\n",
      "  -0.35732409 -0.27617817 -0.73478091 -0.71820648]\n",
      " [-0.22985076 -0.46352178 -0.63083565 -0.84658949 -0.31824369 -0.59688509\n",
      "  -0.05681796 -0.76544093 -0.44756434 -0.17098583]\n",
      " [-0.58196369 -0.78077702 -0.32577443 -0.04886493 -0.31058422 -0.38157611\n",
      "  -0.1762578  -0.35378335 -0.86024736 -0.20604175]\n",
      " [-0.05551261 -0.8294404  -0.07623048 -0.22270634 -0.87304275 -0.70699098\n",
      "  -0.51374268 -0.45461021 -0.41478256 -0.97460384]\n",
      " [-0.76382195 -0.46676043 -0.77768511 -0.98470881 -0.98611591 -0.92700547\n",
      "  -0.56903749 -0.87303468 -0.71037175 -0.64817734]\n",
      " [-0.78482784 -0.37718151 -0.53258204 -0.09457359 -0.89120698 -0.52156547\n",
      "  -0.43064051 -0.67405973 -0.28107032 -0.83714942]\n",
      " [-0.12998184 -0.79625957 -0.8955181  -0.48347027 -0.74526099 -0.27487873\n",
      "  -0.46691909 -0.21432643 -0.86588643 -0.15734314]\n",
      " [-0.99714307 -0.19084601 -0.51594344 -0.65430917 -0.97415953 -0.02344564\n",
      "  -0.01826369 -0.42497473 -0.5693437  -0.91974756]\n",
      " [-0.88601232 -0.78440271 -0.38588158 -0.25414569 -0.98907937 -0.32807461\n",
      "  -0.65772068 -0.64965523 -0.94574507 -0.57763316]\n",
      " [-0.28185203 -0.62613439 -0.66089199 -0.38186737 -0.49369727 -0.28637307\n",
      "  -0.89541887 -0.45633839 -0.07559506 -0.33605904]]\n"
     ]
    }
   ],
   "source": [
    "def relu(x):\n",
    "    return np.maximum(0, x)\n"
   ]
  },
  {
   "cell_type": "markdown",
   "metadata": {},
   "source": [
    "## Convolutional Layer"
   ]
  },
  {
   "cell_type": "code",
   "execution_count": 110,
   "metadata": {},
   "outputs": [
    {
     "name": "stdout",
     "output_type": "stream",
     "text": [
      "1\n"
     ]
    }
   ],
   "source": [
    "class Convolutional:\n",
    "    def __init__(self, channel, kernel_size):\n",
    "        self.channel = channel\n",
    "        self.kernel_size = kernel_size\n",
    "\n",
    "    def get_shape(self):\n",
    "        return self.shape\n",
    "\n",
    "    def set_shape(self, shape):\n",
    "        _, ih, iw = shape\n",
    "        kh, kw = self.kernel_size\n",
    "        \n",
    "        rh = ih - kh + 3\n",
    "        rw = iw - kw + 3\n",
    "        self.shape = (self.channel, rh, rw)\n",
    "        return\n",
    "\n",
    "    ##\n",
    "\n",
    "    def forward(self, data, label):\n",
    "        weight = np.random.rand(self.shape) - 0.5\n",
    "        bias = 1\n",
    "\n",
    "        n, c, h, w = data.shape\n",
    "        \n",
    "\n",
    "\n",
    "        weight += bias\n",
    "\n",
    "        self.weight = weight\n",
    "        self.bias = bias\n",
    "        \n",
    "\n",
    "    def backward(self):\n",
    "        pass\n",
    "\n",
    "    ##\n",
    "\n",
    "    def convolution(self, arr1, arr2):\n",
    "        arr1 = np.pad(arr1, ((2,2), (2,2)), 'constant')\n",
    "        h1, w1 = arr1.shape\n",
    "        h2, w2 = arr2.shape\n",
    "        rh = h1 - h2 + 1\n",
    "        rw = w1 - w2 + 1\n",
    "        \n",
    "        res = np.zeros([rh, rw])\n",
    "        \n",
    "        for y in range(rh):\n",
    "            for x in range(rw):\n",
    "                res[y][x] = np.inner(arr1[y:y+w2,x:x+h2].flatten(), filter.flatten())\n",
    "\n",
    "        return res\n",
    "\n",
    "t = Convolutional(96, (3,3))\n",
    "t.set_shape(np.zeros([1,28,28]).shape)\n",
    "t.forward()"
   ]
  },
  {
   "cell_type": "markdown",
   "metadata": {},
   "source": [
    "## MaxPooling Layer"
   ]
  },
  {
   "cell_type": "code",
   "execution_count": 101,
   "metadata": {},
   "outputs": [],
   "source": [
    "class MaxPooling:\n",
    "    def __init__(self, pool_size):\n",
    "        self.pool_size = pool_size\n",
    "        self.stride = 3\n",
    "\n",
    "    def get_shape(self):\n",
    "        return self.shape\n",
    "\n",
    "    def set_shape(self, shape):\n",
    "        c, h, w = shape\n",
    "        h += 2\n",
    "        w += 2\n",
    "        ph, pw = self.pool_size\n",
    "        rh = h // ph\n",
    "        rw = w // pw\n",
    "        self.shape = (c, rh, rw)\n",
    "        return\n",
    "\n",
    "    ##\n",
    "\n",
    "    def forward(self):\n",
    "        pass\n",
    "\n",
    "    def backward(self):\n",
    "        pass\n",
    "\n",
    "    ##\n",
    "    \n",
    "    def maxpool(self, img):\n",
    "        img = np.pad(img, ((1,1), (1,1)), 'constant')\n",
    "        ih, iw = img.shape\n",
    "        ph, pw = self.pool_size\n",
    "        rh = ih // ph\n",
    "        rw = iw // pw\n",
    "        stride = self.stride\n",
    "\n",
    "        res = np.zeros([rh, rw])   \n",
    "\n",
    "        for y in range(rh):\n",
    "            ys = y * stride\n",
    "            for x in range(rw):\n",
    "                xs = x * stride\n",
    "                res[y][x] = img[ys:ys+ph,xs:xs+pw].max()\n",
    "\n",
    "        return res"
   ]
  },
  {
   "cell_type": "markdown",
   "metadata": {},
   "source": [
    "## Flatten"
   ]
  },
  {
   "cell_type": "code",
   "execution_count": 102,
   "metadata": {},
   "outputs": [],
   "source": [
    "class Flaten:\n",
    "\n",
    "    def get_shape(self):\n",
    "        return self.shape\n",
    "\n",
    "    def set_shape(self, shape):\n",
    "        c, h, w = shape\n",
    "        self.shape = c*h*w\n",
    "        return\n",
    "\n",
    "    ##\n",
    "\n",
    "    def forward(self):\n",
    "        pass\n",
    "\n",
    "    def backward(self):\n",
    "        pass\n",
    "\n",
    "    ##\n"
   ]
  },
  {
   "cell_type": "markdown",
   "metadata": {},
   "source": [
    "## Dense"
   ]
  },
  {
   "cell_type": "code",
   "execution_count": 103,
   "metadata": {},
   "outputs": [],
   "source": [
    "class Dense:\n",
    "    def __init__(self, channel):\n",
    "        self.channel = channel\n",
    "\n",
    "    def get_shape(self):\n",
    "        return self.shape\n",
    "\n",
    "    def set_shape(self, shape):\n",
    "        self.shape = self.channel\n",
    "        return\n",
    "\n",
    "    ##\n",
    "\n",
    "    def forward(self):\n",
    "        pass\n",
    "\n",
    "    def backward(self):\n",
    "        pass\n",
    "\n",
    "    ##\n"
   ]
  },
  {
   "cell_type": "markdown",
   "metadata": {},
   "source": [
    "## Dropout"
   ]
  },
  {
   "cell_type": "code",
   "execution_count": 104,
   "metadata": {},
   "outputs": [],
   "source": [
    "class Dropout:\n",
    "    def __init__(self, ratio):\n",
    "        self.ratio = ratio\n",
    "\n",
    "    def get_shape(self):\n",
    "        return self.shape\n",
    "\n",
    "    def set_shape(self, shape):\n",
    "        self.shape = shape\n",
    "        return\n",
    "\n",
    "    ##\n",
    "\n",
    "    def forward(self):\n",
    "        pass\n",
    "\n",
    "    def backward(self):\n",
    "        pass\n",
    "\n",
    "    ##"
   ]
  },
  {
   "cell_type": "markdown",
   "metadata": {},
   "source": [
    "## Model"
   ]
  },
  {
   "cell_type": "code",
   "execution_count": 105,
   "metadata": {},
   "outputs": [],
   "source": [
    "class Model:\n",
    "    def __init__(self, data):\n",
    "        self.data = data\n",
    "        self.sequence = []\n",
    "\n",
    "    def add(self, layer):\n",
    "        self.sequence.append(layer)\n",
    "\n",
    "    def get_first_input_shape(self):\n",
    "        _, r1, r2, r3 = self.data.shape\n",
    "        return (r1, r2, r3)\n",
    "\n",
    "    def set_shapes_sequence(self, chk_shape = False):\n",
    "        self.sequence[0].set_shape(self.get_first_input_shape())\n",
    "        for i in range(1, len(self.sequence)):\n",
    "            self.sequence[i].set_shape(self.sequence[i-1].get_shape())\n",
    "\n",
    "        if chk_shape:\n",
    "            for layers in self.sequence: print(layers.shape)\n",
    "        return\n",
    "\n",
    "    def compile(self,):    # optimizer, loss\n",
    "        pass\n",
    "\n",
    "    def fit(self):              # train img, train label, epoch\n",
    "        pass"
   ]
  },
  {
   "cell_type": "code",
   "execution_count": 106,
   "metadata": {},
   "outputs": [
    {
     "name": "stdout",
     "output_type": "stream",
     "text": [
      "(96, 28, 28)\n",
      "(96, 10, 10)\n"
     ]
    }
   ],
   "source": [
    "t = Model(np.zeros([70000,1,28,28]))\n",
    "\n",
    "t.add(Convolutional(96,(3,3)))\n",
    "t.add(MaxPooling((3,3)))\n",
    "\n",
    "t.set_shapes_sequence(chk_shape=True)\n",
    "t.compile()"
   ]
  }
 ],
 "metadata": {
  "interpreter": {
   "hash": "ad2bdc8ecc057115af97d19610ffacc2b4e99fae6737bb82f5d7fb13d2f2c186"
  },
  "kernelspec": {
   "display_name": "Python 3.9.7 ('base')",
   "language": "python",
   "name": "python3"
  },
  "language_info": {
   "codemirror_mode": {
    "name": "ipython",
    "version": 3
   },
   "file_extension": ".py",
   "mimetype": "text/x-python",
   "name": "python",
   "nbconvert_exporter": "python",
   "pygments_lexer": "ipython3",
   "version": "3.9.7"
  },
  "orig_nbformat": 4
 },
 "nbformat": 4,
 "nbformat_minor": 2
}

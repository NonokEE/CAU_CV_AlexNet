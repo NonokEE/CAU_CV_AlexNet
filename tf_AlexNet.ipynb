{
 "cells": [
  {
   "cell_type": "markdown",
   "metadata": {},
   "source": [
    "## TF"
   ]
  },
  {
   "cell_type": "code",
   "execution_count": 1,
   "metadata": {},
   "outputs": [],
   "source": [
    "import tensorflow as tf\n",
    "from tensorflow import keras\n",
    "from tensorflow.keras.utils import to_categorical\n",
    "from tensorflow.keras.datasets import mnist\n",
    "import matplotlib.pylab as plt\n",
    "\n",
    "import numpy as np\n",
    "import os"
   ]
  },
  {
   "cell_type": "markdown",
   "metadata": {},
   "source": [
    "## Parameter Setting"
   ]
  },
  {
   "cell_type": "code",
   "execution_count": 2,
   "metadata": {},
   "outputs": [],
   "source": [
    "learning_rate = 0.001\n",
    "epochs = 50\n",
    "batch_size=64"
   ]
  },
  {
   "cell_type": "markdown",
   "metadata": {},
   "source": [
    "## Load Data"
   ]
  },
  {
   "cell_type": "code",
   "execution_count": 3,
   "metadata": {},
   "outputs": [],
   "source": [
    "(train_image, train_label), (test_image, test_label) = mnist.load_data()\n",
    "\n",
    "train_image = train_image.astype(np.float32)\n",
    "test_image = test_image.astype(np.float32)\n",
    "\n",
    "train_image = np.expand_dims(train_image, axis=1)\n",
    "test_image = np.expand_dims(test_image, axis=1)\n",
    "\n",
    "train_label = to_categorical(train_label, 10)\n",
    "test_label = to_categorical(test_label, 10)\n",
    "\n",
    "train_data = tf.data.Dataset.from_tensor_slices((train_image, train_label)).shuffle(buffer_size=1000000).batch(batch_size)\n",
    "test_data = tf.data.Dataset.from_tensor_slices((test_image, test_label)).batch(batch_size)"
   ]
  },
  {
   "cell_type": "markdown",
   "metadata": {},
   "source": [
    "## Model setting"
   ]
  },
  {
   "cell_type": "code",
   "execution_count": 36,
   "metadata": {},
   "outputs": [],
   "source": [
    "input_shape = (1,28,28)\n",
    "model = keras.Sequential()\n",
    "\n",
    "# Part1\n",
    "model.add(keras.layers.Conv2D(96, (3,3), strides=1, padding='same', input_shape=input_shape))\n",
    "model.add(keras.layers.MaxPool2D(pool_size=(3,3), padding='same'))\n",
    "model.add(keras.layers.BatchNormalization())\n",
    "\n",
    "# Part2\n",
    "model.add(keras.layers.Conv2D(256, (3,3), activation='relu', padding='same'))\n",
    "model.add(keras.layers.MaxPool2D(pool_size=(3,3), padding='same'))\n",
    "model.add(keras.layers.BatchNormalization())\n",
    "\n",
    "# Part3\n",
    "model.add(keras.layers.Conv2D(384, (3,3), strides=1, activation='relu', padding='same'))\n",
    "model.add(keras.layers.Conv2D(384, (3,3), strides=1, activation='relu', padding='same'))\n",
    "model.add(keras.layers.Conv2D(256, (3,3), strides=1, activation='relu', padding='same'))\n",
    "model.add(keras.layers.MaxPool2D(pool_size=(3,3), padding='same'))\n",
    "model.add(keras.layers.Flatten())\n",
    "\n",
    "# Dense\n",
    "model.add(keras.layers.Dense(4096, activation='relu'))\n",
    "model.add(keras.layers.Dropout(0.5))\n",
    "\n",
    "model.add(keras.layers.Dense(4096, activation='relu'))\n",
    "model.add(keras.layers.Dropout(0.5))\n",
    "\n",
    "model.add(keras.layers.Dense(10, activation='softmax'))\n"
   ]
  },
  {
   "cell_type": "code",
   "execution_count": 37,
   "metadata": {},
   "outputs": [
    {
     "name": "stdout",
     "output_type": "stream",
     "text": [
      "Model: \"sequential_21\"\n",
      "_________________________________________________________________\n",
      " Layer (type)                Output Shape              Param #   \n",
      "=================================================================\n",
      " conv2d_37 (Conv2D)          (None, 1, 28, 96)         24288     \n",
      "                                                                 \n",
      " max_pooling2d_28 (MaxPoolin  (None, 1, 10, 96)        0         \n",
      " g2D)                                                            \n",
      "                                                                 \n",
      " batch_normalization_13 (Bat  (None, 1, 10, 96)        384       \n",
      " chNormalization)                                                \n",
      "                                                                 \n",
      " conv2d_38 (Conv2D)          (None, 1, 10, 256)        221440    \n",
      "                                                                 \n",
      " max_pooling2d_29 (MaxPoolin  (None, 1, 4, 256)        0         \n",
      " g2D)                                                            \n",
      "                                                                 \n",
      " batch_normalization_14 (Bat  (None, 1, 4, 256)        1024      \n",
      " chNormalization)                                                \n",
      "                                                                 \n",
      " conv2d_39 (Conv2D)          (None, 1, 4, 384)         885120    \n",
      "                                                                 \n",
      " conv2d_40 (Conv2D)          (None, 1, 4, 384)         1327488   \n",
      "                                                                 \n",
      " conv2d_41 (Conv2D)          (None, 1, 4, 256)         884992    \n",
      "                                                                 \n",
      " max_pooling2d_30 (MaxPoolin  (None, 1, 2, 256)        0         \n",
      " g2D)                                                            \n",
      "                                                                 \n",
      " flatten_1 (Flatten)         (None, 512)               0         \n",
      "                                                                 \n",
      " dense_3 (Dense)             (None, 4096)              2101248   \n",
      "                                                                 \n",
      " dropout_3 (Dropout)         (None, 4096)              0         \n",
      "                                                                 \n",
      " dense_4 (Dense)             (None, 4096)              16781312  \n",
      "                                                                 \n",
      " dropout_4 (Dropout)         (None, 4096)              0         \n",
      "                                                                 \n",
      " dense_5 (Dense)             (None, 10)                40970     \n",
      "                                                                 \n",
      "=================================================================\n",
      "Total params: 22,268,266\n",
      "Trainable params: 22,267,562\n",
      "Non-trainable params: 704\n",
      "_________________________________________________________________\n"
     ]
    }
   ],
   "source": [
    "model.summary()"
   ]
  },
  {
   "cell_type": "markdown",
   "metadata": {},
   "source": [
    "## Fit"
   ]
  },
  {
   "cell_type": "code",
   "execution_count": 38,
   "metadata": {},
   "outputs": [
    {
     "name": "stdout",
     "output_type": "stream",
     "text": [
      "Epoch 1/50\n",
      "1875/1875 [==============================] - 17s 8ms/step - loss: 0.2639 - accuracy: 0.9328\n",
      "Epoch 2/50\n",
      "1875/1875 [==============================] - 16s 8ms/step - loss: 0.1400 - accuracy: 0.9681\n",
      "Epoch 3/50\n",
      "1875/1875 [==============================] - 16s 8ms/step - loss: 0.1131 - accuracy: 0.9748\n",
      "Epoch 4/50\n",
      "1875/1875 [==============================] - 16s 8ms/step - loss: 0.1032 - accuracy: 0.9772\n",
      "Epoch 5/50\n",
      "1875/1875 [==============================] - 16s 8ms/step - loss: 0.0880 - accuracy: 0.9806\n",
      "Epoch 6/50\n",
      "1875/1875 [==============================] - 16s 8ms/step - loss: 0.0808 - accuracy: 0.9822\n",
      "Epoch 7/50\n",
      "1875/1875 [==============================] - 15s 8ms/step - loss: 0.0751 - accuracy: 0.9833\n",
      "Epoch 8/50\n",
      "1875/1875 [==============================] - 15s 8ms/step - loss: 0.0648 - accuracy: 0.9854\n",
      "Epoch 9/50\n",
      "1875/1875 [==============================] - 15s 8ms/step - loss: 0.0659 - accuracy: 0.9859\n",
      "Epoch 10/50\n",
      "1875/1875 [==============================] - 16s 8ms/step - loss: 0.0592 - accuracy: 0.9871\n",
      "Epoch 11/50\n",
      "1875/1875 [==============================] - 15s 8ms/step - loss: 0.0576 - accuracy: 0.9877\n",
      "Epoch 12/50\n",
      "1875/1875 [==============================] - 15s 8ms/step - loss: 0.0574 - accuracy: 0.9882\n",
      "Epoch 13/50\n",
      "1875/1875 [==============================] - 15s 8ms/step - loss: 0.0562 - accuracy: 0.9891\n",
      "Epoch 14/50\n",
      "1875/1875 [==============================] - 16s 8ms/step - loss: 0.0606 - accuracy: 0.9881\n",
      "Epoch 15/50\n",
      "1875/1875 [==============================] - 16s 8ms/step - loss: 0.0466 - accuracy: 0.9904\n",
      "Epoch 16/50\n",
      "1875/1875 [==============================] - 16s 8ms/step - loss: 0.0489 - accuracy: 0.9900\n",
      "Epoch 17/50\n",
      "1875/1875 [==============================] - 16s 8ms/step - loss: 0.0573 - accuracy: 0.9892\n",
      "Epoch 18/50\n",
      "1875/1875 [==============================] - 16s 8ms/step - loss: 0.0473 - accuracy: 0.9903\n",
      "Epoch 19/50\n",
      "1875/1875 [==============================] - 16s 8ms/step - loss: 0.0516 - accuracy: 0.9893\n",
      "Epoch 20/50\n",
      "1875/1875 [==============================] - 16s 8ms/step - loss: 0.0406 - accuracy: 0.9916\n",
      "Epoch 21/50\n",
      "1875/1875 [==============================] - 16s 8ms/step - loss: 0.0478 - accuracy: 0.9910\n",
      "Epoch 22/50\n",
      "1875/1875 [==============================] - 16s 8ms/step - loss: 0.0380 - accuracy: 0.9921\n",
      "Epoch 23/50\n",
      "1875/1875 [==============================] - 16s 8ms/step - loss: 0.0456 - accuracy: 0.9912\n",
      "Epoch 24/50\n",
      "1875/1875 [==============================] - 16s 8ms/step - loss: 0.0473 - accuracy: 0.9903\n",
      "Epoch 25/50\n",
      "1875/1875 [==============================] - 16s 8ms/step - loss: 0.0393 - accuracy: 0.9919\n",
      "Epoch 26/50\n",
      "1875/1875 [==============================] - 16s 8ms/step - loss: 0.0444 - accuracy: 0.9916\n",
      "Epoch 27/50\n",
      "1875/1875 [==============================] - 15s 8ms/step - loss: 0.0353 - accuracy: 0.9923\n",
      "Epoch 28/50\n",
      "1875/1875 [==============================] - 16s 8ms/step - loss: 0.0379 - accuracy: 0.9926\n",
      "Epoch 29/50\n",
      "1875/1875 [==============================] - 15s 8ms/step - loss: 0.0410 - accuracy: 0.9924\n",
      "Epoch 30/50\n",
      "1875/1875 [==============================] - 15s 8ms/step - loss: 0.0357 - accuracy: 0.9924\n",
      "Epoch 31/50\n",
      "1875/1875 [==============================] - 15s 8ms/step - loss: 0.0334 - accuracy: 0.9929\n",
      "Epoch 32/50\n",
      "1875/1875 [==============================] - 15s 8ms/step - loss: 0.0308 - accuracy: 0.9935\n",
      "Epoch 33/50\n",
      "1875/1875 [==============================] - 15s 8ms/step - loss: 0.0552 - accuracy: 0.9912\n",
      "Epoch 34/50\n",
      "1875/1875 [==============================] - 15s 8ms/step - loss: 0.0329 - accuracy: 0.9932\n",
      "Epoch 35/50\n",
      "1875/1875 [==============================] - 15s 8ms/step - loss: 0.0407 - accuracy: 0.9924\n",
      "Epoch 36/50\n",
      "1875/1875 [==============================] - 15s 8ms/step - loss: 0.0323 - accuracy: 0.9937\n",
      "Epoch 37/50\n",
      "1875/1875 [==============================] - 15s 8ms/step - loss: 0.0367 - accuracy: 0.9934\n",
      "Epoch 38/50\n",
      "1875/1875 [==============================] - 15s 8ms/step - loss: 0.0460 - accuracy: 0.9917\n",
      "Epoch 39/50\n",
      "1875/1875 [==============================] - 15s 8ms/step - loss: 0.0348 - accuracy: 0.9926\n",
      "Epoch 40/50\n",
      "1875/1875 [==============================] - 16s 8ms/step - loss: 0.0357 - accuracy: 0.9931\n",
      "Epoch 41/50\n",
      "1875/1875 [==============================] - 15s 8ms/step - loss: 0.0244 - accuracy: 0.9948\n",
      "Epoch 42/50\n",
      "1875/1875 [==============================] - 16s 8ms/step - loss: 0.0379 - accuracy: 0.9930\n",
      "Epoch 43/50\n",
      "1875/1875 [==============================] - 16s 8ms/step - loss: 0.0330 - accuracy: 0.9936\n",
      "Epoch 44/50\n",
      "1875/1875 [==============================] - 16s 8ms/step - loss: 0.0327 - accuracy: 0.9944\n",
      "Epoch 45/50\n",
      "1875/1875 [==============================] - 15s 8ms/step - loss: 0.0237 - accuracy: 0.9948\n",
      "Epoch 46/50\n",
      "1875/1875 [==============================] - 16s 8ms/step - loss: 0.0408 - accuracy: 0.9930\n",
      "Epoch 47/50\n",
      "1875/1875 [==============================] - 16s 8ms/step - loss: 0.0324 - accuracy: 0.9933\n",
      "Epoch 48/50\n",
      "1875/1875 [==============================] - 16s 8ms/step - loss: 0.0240 - accuracy: 0.9956\n",
      "Epoch 49/50\n",
      "1875/1875 [==============================] - 15s 8ms/step - loss: 0.0286 - accuracy: 0.9949\n",
      "Epoch 50/50\n",
      "1875/1875 [==============================] - 16s 8ms/step - loss: 0.0306 - accuracy: 0.9937\n"
     ]
    }
   ],
   "source": [
    "model.compile(optimizer='adam', loss='categorical_crossentropy', metrics=['accuracy'])\n",
    "history = model.fit(train_image, train_label, epochs=epochs)"
   ]
  },
  {
   "cell_type": "markdown",
   "metadata": {},
   "source": [
    "## Graph"
   ]
  },
  {
   "cell_type": "code",
   "execution_count": 8,
   "metadata": {},
   "outputs": [
    {
     "data": {
      "image/png": "[encoded data removed]",
      "text/plain": [
       "<Figure size 576x432 with 1 Axes>"
      ]
     },
     "metadata": {
      "needs_background": "light"
     },
     "output_type": "display_data"
    }
   ],
   "source": [
    "plt.figure(figsize=(8,6))\n",
    "plt.title('model loss')\n",
    "\n",
    "plt.plot(history.history['loss'])\n",
    "plt.ylabel('loss')\n",
    "plt.xlabel('epoch')\n",
    "\n",
    "plt.tight_layout()\n",
    "plt.show()"
   ]
  },
  {
   "cell_type": "code",
   "execution_count": 9,
   "metadata": {},
   "outputs": [
    {
     "data": {
      "image/png": "[encoded data removed]",
      "text/plain": [
       "<Figure size 576x432 with 1 Axes>"
      ]
     },
     "metadata": {
      "needs_background": "light"
     },
     "output_type": "display_data"
    }
   ],
   "source": [
    "plt.figure(figsize=(8,6))\n",
    "plt.title('model accuracy')\n",
    "\n",
    "plt.plot(history.history['accuracy'])\n",
    "plt.ylabel('accuracy')\n",
    "plt.xlabel('epoch')\n",
    "\n",
    "plt.tight_layout()\n",
    "plt.show()"
   ]
  },
  {
   "cell_type": "markdown",
   "metadata": {},
   "source": [
    "## Evaluate"
   ]
  },
  {
   "cell_type": "code",
   "execution_count": 10,
   "metadata": {},
   "outputs": [
    {
     "name": "stdout",
     "output_type": "stream",
     "text": [
      "313/313 [==============================] - 1s 3ms/step - loss: 0.1468 - accuracy: 0.9580\n"
     ]
    }
   ],
   "source": [
    "test_loss, test_acc = model.evaluate(test_image, test_label)"
   ]
  },
  {
   "cell_type": "code",
   "execution_count": 59,
   "metadata": {},
   "outputs": [
    {
     "name": "stdout",
     "output_type": "stream",
     "text": [
      "1/1 [==============================] - 0s 18ms/step\n",
      "[[0.00000000e+00 0.00000000e+00 0.00000000e+00 0.00000000e+00\n",
      "  0.00000000e+00 0.00000000e+00 0.00000000e+00 1.00000000e+00\n",
      "  0.00000000e+00 0.00000000e+00]\n",
      " [0.00000000e+00 0.00000000e+00 1.00000000e+00 0.00000000e+00\n",
      "  0.00000000e+00 0.00000000e+00 0.00000000e+00 1.57853849e-33\n",
      "  0.00000000e+00 0.00000000e+00]\n",
      " [0.00000000e+00 1.00000000e+00 0.00000000e+00 0.00000000e+00\n",
      "  0.00000000e+00 0.00000000e+00 0.00000000e+00 0.00000000e+00\n",
      "  0.00000000e+00 0.00000000e+00]\n",
      " [1.00000000e+00 3.48788894e-18 1.11207070e-08 2.97892996e-15\n",
      "  5.82977622e-13 7.80893308e-13 2.80299641e-08 3.12050190e-13\n",
      "  1.09291333e-10 3.09251133e-13]\n",
      " [7.20363860e-23 2.06118917e-20 2.15181666e-21 2.91316795e-29\n",
      "  1.00000000e+00 8.05322830e-26 8.87922553e-18 1.03338776e-19\n",
      "  4.00338049e-21 1.11274202e-14]\n",
      " [0.00000000e+00 1.00000000e+00 0.00000000e+00 0.00000000e+00\n",
      "  0.00000000e+00 0.00000000e+00 0.00000000e+00 0.00000000e+00\n",
      "  0.00000000e+00 0.00000000e+00]\n",
      " [1.16499241e-21 4.62547870e-19 1.22781456e-20 1.15906229e-27\n",
      "  1.00000000e+00 1.29317229e-24 3.91835555e-17 1.45019609e-18\n",
      "  3.44376712e-20 7.36873670e-14]\n",
      " [2.21364030e-06 1.78867210e-09 1.30464901e-11 6.77245922e-08\n",
      "  2.92173529e-04 3.94507005e-08 1.31207507e-08 5.96903992e-05\n",
      "  5.70317070e-07 9.99645233e-01]\n",
      " [1.89236884e-14 1.02706756e-13 4.29826090e-14 9.09173892e-09\n",
      "  3.68129360e-16 1.00000000e+00 1.65999114e-09 1.37252338e-14\n",
      "  1.64616221e-09 2.62408517e-09]\n",
      " [2.33105229e-14 9.76234500e-25 1.51151099e-28 7.17816608e-20\n",
      "  6.77290557e-10 9.72434756e-20 3.57995400e-20 2.80355210e-12\n",
      "  7.05049116e-17 1.00000000e+00]]\n"
     ]
    }
   ],
   "source": [
    "print(model.predict(test_image[:10]))\n"
   ]
  },
  {
   "cell_type": "code",
   "execution_count": 62,
   "metadata": {},
   "outputs": [
    {
     "data": {
      "image/png": "[encoded data removed]",
      "text/plain": [
       "<Figure size 576x432 with 1 Axes>"
      ]
     },
     "metadata": {
      "needs_background": "light"
     },
     "output_type": "display_data"
    }
   ],
   "source": [
    "img = test_image[4]\n",
    "plt.figure(figsize=(8,6))\n",
    "plt.imshow(img.reshape([28,28]))\n",
    "plt.show()"
   ]
  }
 ],
 "metadata": {
  "interpreter": {
   "hash": "ad2bdc8ecc057115af97d19610ffacc2b4e99fae6737bb82f5d7fb13d2f2c186"
  },
  "kernelspec": {
   "display_name": "Python 3.9.7 ('base')",
   "language": "python",
   "name": "python3"
  },
  "language_info": {
   "codemirror_mode": {
    "name": "ipython",
    "version": 3
   },
   "file_extension": ".py",
   "mimetype": "text/x-python",
   "name": "python",
   "nbconvert_exporter": "python",
   "pygments_lexer": "ipython3",
   "version": "3.9.7"
  },
  "orig_nbformat": 4
 },
 "nbformat": 4,
 "nbformat_minor": 2
}

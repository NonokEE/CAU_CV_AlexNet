{
 "cells": [
  {
   "cell_type": "code",
   "execution_count": 59,
   "metadata": {},
   "outputs": [],
   "source": [
    "import numpy as np"
   ]
  },
  {
   "cell_type": "markdown",
   "metadata": {},
   "source": [
    "## ReLu"
   ]
  },
  {
   "cell_type": "code",
   "execution_count": 60,
   "metadata": {},
   "outputs": [],
   "source": [
    "def relu(x):\n",
    "    return np.maximum(0, x)"
   ]
  },
  {
   "cell_type": "code",
   "execution_count": 61,
   "metadata": {},
   "outputs": [
    {
     "name": "stdout",
     "output_type": "stream",
     "text": [
      "Images: (2, 3, 5, 5)\n"
     ]
    }
   ],
   "source": [
    "img = np.asarray([\n",
    "# image 1\n",
    "[\n",
    "    [[1, 2, 9, 2, 7],\n",
    "    [5, 0, 3, 1, 8],\n",
    "    [4, 1, 3, 0, 6],\n",
    "    [2, 5, 2, 9, 5],\n",
    "    [6, 5, 1, 3, 2]],\n",
    "\n",
    "    [[4, 5, 7, 0, 8],\n",
    "    [5, 8, 5, 3, 5],\n",
    "    [4, 2, 1, 6, 5],\n",
    "    [7, 3, 2, 1, 0],\n",
    "    [6, 1, 2, 2, 6]],\n",
    "\n",
    "    [[3, 7, 4, 5, 0],\n",
    "    [5, 4, 6, 8, 9],\n",
    "    [6, 1, 9, 1, 6],\n",
    "    [9, 3, 0, 2, 4],\n",
    "    [1, 2, 5, 5, 2]]\n",
    "],\n",
    "# image 2\n",
    "[\n",
    "    [[7, 2, 1, 4, 2],\n",
    "    [5, 4, 6, 5, 0],\n",
    "    [1, 2, 4, 2, 8],\n",
    "    [5, 9, 0, 5, 1],\n",
    "    [7, 6, 2, 4, 6]],\n",
    "\n",
    "    [[5, 4, 2, 5, 7],\n",
    "    [6, 1, 4, 0, 5],\n",
    "    [8, 9, 4, 7, 6],\n",
    "    [4, 5, 5, 6, 7],\n",
    "    [1, 2, 7, 4, 1]],\n",
    "\n",
    "    [[7, 4, 8, 9, 7],\n",
    "    [5, 5, 8, 1, 4],\n",
    "    [3, 2, 2, 5, 2],\n",
    "    [1, 0, 3, 7, 6],\n",
    "    [4, 5, 4, 5, 5]]\n",
    "]\n",
    "])\n",
    "print('Images:', img.shape)"
   ]
  },
  {
   "cell_type": "code",
   "execution_count": 62,
   "metadata": {},
   "outputs": [
    {
     "name": "stdout",
     "output_type": "stream",
     "text": [
      "Filter: (3, 3, 3)\n"
     ]
    }
   ],
   "source": [
    "filter = np.asarray([\n",
    "    [[1, 0, 1],\n",
    "    [0, 1, 0],\n",
    "    [1, 0, 1]],\n",
    "\n",
    "    [[3, 1, 3],\n",
    "    [1, 3, 1],\n",
    "    [3, 1, 3]],\n",
    "\n",
    "    [[1, 2, 1],\n",
    "    [2, 2, 2],\n",
    "    [1, 2, 1]]\n",
    "])\n",
    "print('Filter:', filter.shape)\n"
   ]
  },
  {
   "cell_type": "markdown",
   "metadata": {},
   "source": [
    "## im2col"
   ]
  },
  {
   "cell_type": "code",
   "execution_count": 77,
   "metadata": {},
   "outputs": [],
   "source": [
    "def im2col(img, filter, stride=1, pad=0):\n",
    "    n, c, h, w = img.shape\n",
    "    fc, fh, fw = filter.shape\n",
    "\n",
    "    oh = ((h + 2*pad - fh) // stride) + 1\n",
    "    ow = ((w + 2*pad - fw) // stride) + 1\n",
    "\n",
    "    padded = np.pad(img, [(0,0), (0,0), (pad, pad), (pad, pad)], 'constant')\n",
    "    res = np.zeros([n, c, fh, fw, oh, ow])\n",
    "\n",
    "    for y in range(fh):\n",
    "        y_end = y + stride * oh\n",
    "        for x in range(fw):\n",
    "            x_end = x + stride * ow\n",
    "            res[:, :, y, x, :, :] = padded[:, :, y:y_end:stride, x:x_end:stride]\n",
    "\n",
    "    return res.transpose(0, 4, 5, 1, 2, 3).reshape(n * oh * ow, -1)"
   ]
  },
  {
   "cell_type": "markdown",
   "metadata": {},
   "source": [
    "## Convolution"
   ]
  },
  {
   "cell_type": "code",
   "execution_count": null,
   "metadata": {},
   "outputs": [],
   "source": [
    "def convolution(img, filter, stride=1, pad=0):\n",
    "    col = im2col(img, filter, stride=stride, pad=pad)"
   ]
  }
 ],
 "metadata": {
  "interpreter": {
   "hash": "ad2bdc8ecc057115af97d19610ffacc2b4e99fae6737bb82f5d7fb13d2f2c186"
  },
  "kernelspec": {
   "display_name": "Python 3.9.7 ('base')",
   "language": "python",
   "name": "python3"
  },
  "language_info": {
   "codemirror_mode": {
    "name": "ipython",
    "version": 3
   },
   "file_extension": ".py",
   "mimetype": "text/x-python",
   "name": "python",
   "nbconvert_exporter": "python",
   "pygments_lexer": "ipython3",
   "version": "3.9.7"
  },
  "orig_nbformat": 4
 },
 "nbformat": 4,
 "nbformat_minor": 2
}

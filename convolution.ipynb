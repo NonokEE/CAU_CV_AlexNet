{
 "cells": [
  {
   "cell_type": "code",
   "execution_count": 293,
   "metadata": {},
   "outputs": [],
   "source": [
    "import numpy as np"
   ]
  },
  {
   "cell_type": "markdown",
   "metadata": {},
   "source": [
    "## ReLu"
   ]
  },
  {
   "cell_type": "code",
   "execution_count": 294,
   "metadata": {},
   "outputs": [],
   "source": [
    "def relu(x):\n",
    "    return np.maximum(0, x)"
   ]
  },
  {
   "cell_type": "markdown",
   "metadata": {},
   "source": [
    "## Convolutional Layer"
   ]
  },
  {
   "cell_type": "code",
   "execution_count": 295,
   "metadata": {},
   "outputs": [],
   "source": [
    "class Convolutional:\n",
    "    def __init__(self, channel, kernel_size):\n",
    "        self.channel = channel\n",
    "        self.kernel_size = kernel_size\n",
    "\n",
    "    def get_shape(self):\n",
    "        return self.shape\n",
    "\n",
    "    def set_shape(self, shape):\n",
    "        _, ih, iw = shape\n",
    "        kh, kw = self.kernel_size\n",
    "        \n",
    "        rh = ih - kh + 2\n",
    "        rw = iw - kw + 2\n",
    "        self.shape = (self.channel, rh, rw)\n",
    "        return\n",
    "\n",
    "    def convolution(self, arr1, arr2):\n",
    "        arr1 = np.pad(arr1, ((1,1), (1,1)), 'constant')\n",
    "        h1, w1 = arr1.shape\n",
    "        h2, w2 = arr2.shape\n",
    "        rh = h1 - h2 + 1\n",
    "        rw = w1 - w2 + 1\n",
    "        \n",
    "        res = np.zeros([rh, rw])\n",
    "        \n",
    "        for y in range(rh):\n",
    "            for x in range(rw):\n",
    "                res[y][x] = np.inner(arr1[y:y+w2,x:x+h2].flatten(), filter.flatten())\n",
    "\n",
    "        return res"
   ]
  },
  {
   "cell_type": "markdown",
   "metadata": {},
   "source": [
    "## MaxPooling Layer"
   ]
  },
  {
   "cell_type": "code",
   "execution_count": 296,
   "metadata": {},
   "outputs": [],
   "source": [
    "class MaxPooling:\n",
    "    def __init__(self, pool_size):\n",
    "        self.pool_size = pool_size\n",
    "        self.stride = 3\n",
    "\n",
    "    def get_shape(self):\n",
    "        return self.shape\n",
    "\n",
    "    def set_shape(self, shape):\n",
    "        c, h, w = shape\n",
    "        h+=2\n",
    "        w+=2\n",
    "        ph, pw = self.pool_size\n",
    "        rh = h // ph\n",
    "        rw = w // pw\n",
    "        self.shape = (c, rh, rw)\n",
    "        return\n",
    "\n",
    "    def maxpool(self, img):\n",
    "        img = np.pad(img, ((1,1), (1,1)), 'constant')\n",
    "        ih, iw = img.shape\n",
    "        ph, pw = self.pool_size\n",
    "        rh = ih // ph\n",
    "        rw = iw // pw\n",
    "        stride = self.stride\n",
    "\n",
    "        res = np.zeros([rh, rw])   \n",
    "\n",
    "        for y in range(rh):\n",
    "            ys = y * stride\n",
    "            for x in range(rw):\n",
    "                xs = x * stride\n",
    "                res[y][x] = img[ys:ys+ph,xs:xs+pw].max()\n",
    "\n",
    "        return res"
   ]
  },
  {
   "cell_type": "markdown",
   "metadata": {},
   "source": [
    "## Model"
   ]
  },
  {
   "cell_type": "code",
   "execution_count": 297,
   "metadata": {},
   "outputs": [
    {
     "name": "stdout",
     "output_type": "stream",
     "text": [
      "(96, 10, 10)\n",
      "(96, 28, 28)\n",
      "(10, 10)\n"
     ]
    }
   ],
   "source": [
    "class Model:\n",
    "    def __init__(self, data):\n",
    "        self.data = data\n",
    "        self.sequence = []\n",
    "\n",
    "    def add(self, layer):\n",
    "        self.sequence.append(layer)\n",
    "\n",
    "    def get_first_input_shape(self):\n",
    "        _, r1, r2, r3 = self.data.shape\n",
    "        return (r1, r2, r3)\n",
    "\n",
    "    def set_shapes_sequence(self):\n",
    "        self.sequence[0].set_shape(self.get_first_input_shape())\n",
    "\n",
    "        for i in range(1, len(self.sequence)):\n",
    "            self.sequence[i].set_shape(self.sequence[i-1].get_shape())\n",
    "\n",
    "t = Model(np.zeros([70000,1,28,28]))\n",
    "t.add(Convolutional(96,(2,2)))\n",
    "t.add(MaxPooling((3,3)))\n",
    "t.set_shapes_sequence()\n",
    "\n",
    "print(t.sequence[0].shape)\n",
    "print(t.sequence[1].maxpool(np.zeros((28,28))).shape)"
   ]
  }
 ],
 "metadata": {
  "interpreter": {
   "hash": "ad2bdc8ecc057115af97d19610ffacc2b4e99fae6737bb82f5d7fb13d2f2c186"
  },
  "kernelspec": {
   "display_name": "Python 3.9.7 ('base')",
   "language": "python",
   "name": "python3"
  },
  "language_info": {
   "codemirror_mode": {
    "name": "ipython",
    "version": 3
   },
   "file_extension": ".py",
   "mimetype": "text/x-python",
   "name": "python",
   "nbconvert_exporter": "python",
   "pygments_lexer": "ipython3",
   "version": "3.9.7"
  },
  "orig_nbformat": 4
 },
 "nbformat": 4,
 "nbformat_minor": 2
}
